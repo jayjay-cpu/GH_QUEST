{
 "cells": [
  {
   "cell_type": "markdown",
   "metadata": {},
   "source": [
    "# EDA & t-test\n",
    "\n",
    "#### nyc_citibike.csv 를 이용해 'Pershing Square North' 와 'Broadway & E 22 St ' 의 주행시간(trip_duration)  의 평균이 같은지 알아보는 t-test 를 진행해보세요. \n",
    "#### 조건)\n",
    "\n",
    ">* 주행시간의 단위는 분(min) 으로 계산한다. \n",
    ">* 'Pershing Square North' 와 'Broadway & E 22 St ' 은 반납지점을 의미한다.\n",
    ">* 각 지점에서 반납한 자전거의 주행시간은 독립이라고 가정한다.\n",
    ">* t-test 를 진행하기 전 관련 변수에 관해 EDA 를 진행한다. \n"
   ]
  },
  {
   "cell_type": "markdown",
   "metadata": {},
   "source": [
    "### EDA\n",
    "조건에 맞게 데이터를 가공하고 'Pershing Square North' 와 'Broadway & E 22 St ' 에 반납한 자전거의 주행시간을 적절한 그래프로 나타내세요."
   ]
  },
  {
   "cell_type": "code",
   "execution_count": 3,
   "metadata": {},
   "outputs": [],
   "source": [
    "import numpy as np\n",
    "import pandas as pd\n",
    "import matplotlib.pyplot as plt \n",
    "import seaborn as sns \n",
    "\n",
    "# warming 제거\n",
    "import warnings\n",
    "warnings.filterwarnings('ignore')\n",
    "\n",
    "# notebook을 실행한 브라우저에서 바로 그림을 볼 수 있게 해주는 것\n",
    "%matplotlib inline "
   ]
  },
  {
   "cell_type": "code",
   "execution_count": 4,
   "metadata": {},
   "outputs": [],
   "source": [
    "# 한글 꺠짐 \n",
    "import matplotlib.pyplot as plt \n",
    "import platform                \n",
    "\n",
    "from matplotlib import font_manager, rc\n",
    "plt.rcParams['axes.unicode_minus']= False\n",
    "\n",
    "if platform.system() == 'Darwin': #맥os 사용자의 경우\n",
    "    plt.style.use('seaborn-darkgrid') \n",
    "    rc('font', family = 'AppleGothic')\n",
    "    \n",
    "elif platform.system() == 'Windows':#윈도우 사용자의 경우\n",
    "    path = 'c:/Windows/Fonts/malgun.ttf'\n",
    "    font_name = font_manager.FontProperties(fname=path).get_name()\n",
    "    plt.style.use('seaborn-darkgrid') # https://python-graph-gallery.com/199-matplotlib-style-sheets/\n",
    "    rc('font', family=font_name)"
   ]
  },
  {
   "cell_type": "code",
   "execution_count": 5,
   "metadata": {},
   "outputs": [],
   "source": [
    "df = pd.read_csv(\"nyc_citibike.csv\")\n",
    "# 분석 결과의 이해를 돕기위해 데이터 단위를 바꿔줄 수도 있다.\n",
    "df['trip_duration_min']=df['trip_duration'] /60"
   ]
  },
  {
   "cell_type": "code",
   "execution_count": 6,
   "metadata": {},
   "outputs": [
    {
     "data": {
      "text/plain": [
       "Pershing Square North                750\n",
       "West St & Chambers St                562\n",
       "W 21 St & 6 Ave                      486\n",
       "8 Ave & W 31 St                      461\n",
       "Broadway & E 22 St                   448\n",
       "W 22 St & 10 Ave                     433\n",
       "E 17 St & Broadway                   424\n",
       "8 Ave & W 33 St                      419\n",
       "Grand Army Plaza & Central Park S    414\n",
       "W 16 St & 8 Ave                      414\n",
       "Name: end_station_name, dtype: int64"
      ]
     },
     "execution_count": 6,
     "metadata": {},
     "output_type": "execute_result"
    }
   ],
   "source": [
    "df['end_station_name'].value_counts().nlargest(10)"
   ]
  },
  {
   "cell_type": "code",
   "execution_count": 7,
   "metadata": {},
   "outputs": [],
   "source": [
    "df_cut=df[df['end_station_name'].isin(['Pershing Square North','Broadway & E 22 St'])]"
   ]
  },
  {
   "cell_type": "code",
   "execution_count": 8,
   "metadata": {},
   "outputs": [
    {
     "data": {
      "text/plain": [
       "Pershing Square North    750\n",
       "Broadway & E 22 St       448\n",
       "Name: end_station_name, dtype: int64"
      ]
     },
     "execution_count": 8,
     "metadata": {},
     "output_type": "execute_result"
    }
   ],
   "source": [
    "df_cut['end_station_name'].value_counts()"
   ]
  },
  {
   "cell_type": "code",
   "execution_count": 9,
   "metadata": {},
   "outputs": [
    {
     "data": {
      "text/html": [
       "<div>\n",
       "<style scoped>\n",
       "    .dataframe tbody tr th:only-of-type {\n",
       "        vertical-align: middle;\n",
       "    }\n",
       "\n",
       "    .dataframe tbody tr th {\n",
       "        vertical-align: top;\n",
       "    }\n",
       "\n",
       "    .dataframe thead th {\n",
       "        text-align: right;\n",
       "    }\n",
       "</style>\n",
       "<table border=\"1\" class=\"dataframe\">\n",
       "  <thead>\n",
       "    <tr style=\"text-align: right;\">\n",
       "      <th></th>\n",
       "      <th>start_date</th>\n",
       "      <th>end_date</th>\n",
       "      <th>start_hour</th>\n",
       "      <th>end_hour</th>\n",
       "      <th>trip_duration</th>\n",
       "      <th>start_station_id</th>\n",
       "      <th>start_station_name</th>\n",
       "      <th>start_station_latitude</th>\n",
       "      <th>start_station_longitude</th>\n",
       "      <th>end_station_id</th>\n",
       "      <th>end_station_name</th>\n",
       "      <th>end_station_latitude</th>\n",
       "      <th>end_station_longitude</th>\n",
       "      <th>bike_id</th>\n",
       "      <th>usertype</th>\n",
       "      <th>birth_year</th>\n",
       "      <th>gender</th>\n",
       "      <th>day_since_register</th>\n",
       "      <th>trip_duration_min</th>\n",
       "    </tr>\n",
       "  </thead>\n",
       "  <tbody>\n",
       "    <tr>\n",
       "      <th>372</th>\n",
       "      <td>2018-05-01</td>\n",
       "      <td>2018-05-01</td>\n",
       "      <td>0</td>\n",
       "      <td>0</td>\n",
       "      <td>1155</td>\n",
       "      <td>499</td>\n",
       "      <td>Broadway &amp; W 60 St</td>\n",
       "      <td>40.769155</td>\n",
       "      <td>-73.981918</td>\n",
       "      <td>402</td>\n",
       "      <td>Broadway &amp; E 22 St</td>\n",
       "      <td>40.740343</td>\n",
       "      <td>-73.989551</td>\n",
       "      <td>18539</td>\n",
       "      <td>Subscriber</td>\n",
       "      <td>1955</td>\n",
       "      <td>male</td>\n",
       "      <td>47</td>\n",
       "      <td>19.250000</td>\n",
       "    </tr>\n",
       "    <tr>\n",
       "      <th>497</th>\n",
       "      <td>2018-05-01</td>\n",
       "      <td>2018-05-01</td>\n",
       "      <td>0</td>\n",
       "      <td>0</td>\n",
       "      <td>893</td>\n",
       "      <td>478</td>\n",
       "      <td>11 Ave &amp; W 41 St</td>\n",
       "      <td>40.760301</td>\n",
       "      <td>-73.998842</td>\n",
       "      <td>519</td>\n",
       "      <td>Pershing Square North</td>\n",
       "      <td>40.751873</td>\n",
       "      <td>-73.977706</td>\n",
       "      <td>31214</td>\n",
       "      <td>Subscriber</td>\n",
       "      <td>1959</td>\n",
       "      <td>male</td>\n",
       "      <td>5</td>\n",
       "      <td>14.883333</td>\n",
       "    </tr>\n",
       "    <tr>\n",
       "      <th>567</th>\n",
       "      <td>2018-05-01</td>\n",
       "      <td>2018-05-01</td>\n",
       "      <td>0</td>\n",
       "      <td>0</td>\n",
       "      <td>591</td>\n",
       "      <td>312</td>\n",
       "      <td>Allen St &amp; Stanton St</td>\n",
       "      <td>40.722055</td>\n",
       "      <td>-73.989111</td>\n",
       "      <td>402</td>\n",
       "      <td>Broadway &amp; E 22 St</td>\n",
       "      <td>40.740343</td>\n",
       "      <td>-73.989551</td>\n",
       "      <td>25999</td>\n",
       "      <td>Subscriber</td>\n",
       "      <td>1993</td>\n",
       "      <td>male</td>\n",
       "      <td>56</td>\n",
       "      <td>9.850000</td>\n",
       "    </tr>\n",
       "    <tr>\n",
       "      <th>631</th>\n",
       "      <td>2018-05-01</td>\n",
       "      <td>2018-05-01</td>\n",
       "      <td>0</td>\n",
       "      <td>0</td>\n",
       "      <td>682</td>\n",
       "      <td>478</td>\n",
       "      <td>11 Ave &amp; W 41 St</td>\n",
       "      <td>40.760301</td>\n",
       "      <td>-73.998842</td>\n",
       "      <td>519</td>\n",
       "      <td>Pershing Square North</td>\n",
       "      <td>40.751873</td>\n",
       "      <td>-73.977706</td>\n",
       "      <td>25781</td>\n",
       "      <td>Subscriber</td>\n",
       "      <td>1974</td>\n",
       "      <td>male</td>\n",
       "      <td>58</td>\n",
       "      <td>11.366667</td>\n",
       "    </tr>\n",
       "    <tr>\n",
       "      <th>719</th>\n",
       "      <td>2018-05-01</td>\n",
       "      <td>2018-05-02</td>\n",
       "      <td>23</td>\n",
       "      <td>0</td>\n",
       "      <td>500</td>\n",
       "      <td>3260</td>\n",
       "      <td>Mercer St &amp; Bleecker St</td>\n",
       "      <td>40.727064</td>\n",
       "      <td>-73.996621</td>\n",
       "      <td>402</td>\n",
       "      <td>Broadway &amp; E 22 St</td>\n",
       "      <td>40.740343</td>\n",
       "      <td>-73.989551</td>\n",
       "      <td>31653</td>\n",
       "      <td>Subscriber</td>\n",
       "      <td>1986</td>\n",
       "      <td>male</td>\n",
       "      <td>34</td>\n",
       "      <td>8.333333</td>\n",
       "    </tr>\n",
       "  </tbody>\n",
       "</table>\n",
       "</div>"
      ],
      "text/plain": [
       "     start_date    end_date  start_hour  end_hour  trip_duration  \\\n",
       "372  2018-05-01  2018-05-01           0         0           1155   \n",
       "497  2018-05-01  2018-05-01           0         0            893   \n",
       "567  2018-05-01  2018-05-01           0         0            591   \n",
       "631  2018-05-01  2018-05-01           0         0            682   \n",
       "719  2018-05-01  2018-05-02          23         0            500   \n",
       "\n",
       "     start_station_id       start_station_name  start_station_latitude  \\\n",
       "372               499       Broadway & W 60 St               40.769155   \n",
       "497               478         11 Ave & W 41 St               40.760301   \n",
       "567               312    Allen St & Stanton St               40.722055   \n",
       "631               478         11 Ave & W 41 St               40.760301   \n",
       "719              3260  Mercer St & Bleecker St               40.727064   \n",
       "\n",
       "     start_station_longitude  end_station_id       end_station_name  \\\n",
       "372               -73.981918             402     Broadway & E 22 St   \n",
       "497               -73.998842             519  Pershing Square North   \n",
       "567               -73.989111             402     Broadway & E 22 St   \n",
       "631               -73.998842             519  Pershing Square North   \n",
       "719               -73.996621             402     Broadway & E 22 St   \n",
       "\n",
       "     end_station_latitude  end_station_longitude  bike_id    usertype  \\\n",
       "372             40.740343             -73.989551    18539  Subscriber   \n",
       "497             40.751873             -73.977706    31214  Subscriber   \n",
       "567             40.740343             -73.989551    25999  Subscriber   \n",
       "631             40.751873             -73.977706    25781  Subscriber   \n",
       "719             40.740343             -73.989551    31653  Subscriber   \n",
       "\n",
       "     birth_year gender  day_since_register  trip_duration_min  \n",
       "372        1955   male                  47          19.250000  \n",
       "497        1959   male                   5          14.883333  \n",
       "567        1993   male                  56           9.850000  \n",
       "631        1974   male                  58          11.366667  \n",
       "719        1986   male                  34           8.333333  "
      ]
     },
     "execution_count": 9,
     "metadata": {},
     "output_type": "execute_result"
    }
   ],
   "source": [
    "df_cut.head()"
   ]
  },
  {
   "cell_type": "code",
   "execution_count": 10,
   "metadata": {},
   "outputs": [
    {
     "data": {
      "image/png": "[encoded data removed]",
      "text/plain": [
       "<Figure size 432x576 with 1 Axes>"
      ]
     },
     "metadata": {},
     "output_type": "display_data"
    }
   ],
   "source": [
    "plt.figure(figsize=(6,8))\n",
    "box=sns.boxplot(x='end_station_name',y='trip_duration_min',data=df_cut)\n",
    "box.set_xlabel(\"반납지점\")\n",
    "box.set_ylabel(\"주행시간(분)\")\n",
    "plt.show()"
   ]
  },
  {
   "cell_type": "code",
   "execution_count": 11,
   "metadata": {},
   "outputs": [
    {
     "data": {
      "image/png": "[encoded data removed]",
      "text/plain": [
       "<Figure size 432x576 with 1 Axes>"
      ]
     },
     "metadata": {},
     "output_type": "display_data"
    }
   ],
   "source": [
    "df_cut=df_cut[df_cut['trip_duration_min']<df_cut['trip_duration_min'].quantile(0.99)]\n",
    "\n",
    "plt.figure(figsize=(6,8))\n",
    "box=sns.boxplot(x='end_station_name',y='trip_duration_min',data=df_cut)\n",
    "box.set_xlabel(\"반납지점\")\n",
    "box.set_ylabel(\"주행시간(분)\")\n",
    "plt.show()"
   ]
  },
  {
   "cell_type": "markdown",
   "metadata": {},
   "source": [
    "### T-test\n",
    "귀무가설은 무엇일까요?"
   ]
  },
  {
   "cell_type": "code",
   "execution_count": 12,
   "metadata": {},
   "outputs": [],
   "source": [
    "# H0: 두 지점의 평균은 같다"
   ]
  },
  {
   "cell_type": "markdown",
   "metadata": {},
   "source": [
    "어떤 T-test 를 적용해야할까요?"
   ]
  },
  {
   "cell_type": "code",
   "execution_count": 13,
   "metadata": {},
   "outputs": [],
   "source": [
    "# 독립 표본 t-test "
   ]
  },
  {
   "cell_type": "markdown",
   "metadata": {},
   "source": [
    "분석해봅시다!"
   ]
  },
  {
   "cell_type": "code",
   "execution_count": 14,
   "metadata": {},
   "outputs": [],
   "source": [
    "pershing=df_cut[df_cut['end_station_name']=='Pershing Square North']['trip_duration_min']\n",
    "broadway=df_cut[df_cut['end_station_name']=='Broadway & E 22 St']['trip_duration_min']"
   ]
  },
  {
   "cell_type": "markdown",
   "metadata": {},
   "source": [
    "### 정규성 검정"
   ]
  },
  {
   "cell_type": "code",
   "execution_count": 15,
   "metadata": {},
   "outputs": [
    {
     "data": {
      "text/plain": [
       "Ks_2sampResult(statistic=0.08963984827431713, pvalue=0.02103668765802491)"
      ]
     },
     "execution_count": 15,
     "metadata": {},
     "output_type": "execute_result"
    }
   ],
   "source": [
    "from scipy.stats import ks_2samp\n",
    "ks_2samp(pershing,broadway)"
   ]
  },
  {
   "cell_type": "markdown",
   "metadata": {},
   "source": [
    "H0: 두 분포 모두 정규분포를 따른다\n",
    "\n",
    "p-value 가 0.05보다 작으므로 두 표본 모두 정규분포를 따르지\"는\" 않는다. \n",
    "(한개만 정규분포를 따를 수도 있어요!)    \n",
    "\n",
    "하지만, 우리는 정규성을 따르지 않는다고 하면 더더 복잡해지기 때문에 생략할게요..ㅎ\n",
    "정규분포를 따른다고 가정합시다"
   ]
  },
  {
   "cell_type": "markdown",
   "metadata": {},
   "source": [
    "### 등분산검정"
   ]
  },
  {
   "cell_type": "code",
   "execution_count": 17,
   "metadata": {},
   "outputs": [
    {
     "data": {
      "text/plain": [
       "BartlettResult(statistic=1.0657052043179762, pvalue=0.30191755741581616)"
      ]
     },
     "execution_count": 17,
     "metadata": {},
     "output_type": "execute_result"
    }
   ],
   "source": [
    "from scipy.stats import bartlett\n",
    "bartlett(pershing,broadway)"
   ]
  },
  {
   "cell_type": "markdown",
   "metadata": {},
   "source": [
    "H0: 두 분포가 등분산이다    \n",
    "p-value 가 0.05 보다 크므로 등분산성 가정을 만족한다."
   ]
  },
  {
   "cell_type": "code",
   "execution_count": 19,
   "metadata": {},
   "outputs": [
    {
     "data": {
      "text/plain": [
       "Ttest_indResult(statistic=1.0374109523433235, pvalue=0.2997561930501138)"
      ]
     },
     "execution_count": 19,
     "metadata": {},
     "output_type": "execute_result"
    }
   ],
   "source": [
    "from scipy.stats import ttest_ind \n",
    "ttest_ind(pershing,broadway,equal_var= True)"
   ]
  },
  {
   "cell_type": "markdown",
   "metadata": {},
   "source": [
    "분석 결과를 해석해주세요"
   ]
  },
  {
   "cell_type": "code",
   "execution_count": 20,
   "metadata": {},
   "outputs": [],
   "source": [
    "# pvalue 가 유의수준 0.05보다 크기 떄문에 귀무가설을 기각할 수 없다\n",
    "# 즉, 두 지점의 평균은 같다. "
   ]
  },
  {
   "cell_type": "markdown",
   "metadata": {},
   "source": [
    "## 퀘스트 피드백\n",
    ">* 많은 분들이 n 을 30으로 정해주셨는데, n 이 30보다 큰 경우도 t-test 를 해도 됩니다. n 이 커지면 t분포와 normal 분포가 비슷해지는것이지, t분포를 따르지 않는 것은 아닙니다. \n",
    ">* 문제 풀이 방식의 차이인데, 우리가 가지고 있는 자료를 모집단으로 보고 30개씩 뽑아서 검정을 시행할 수도 있고, 우리가 가지고 있는 자료를 표본으로 보고 지구상 전체 인구를 모집단으로 볼 수도 있어요. 보통의 경우 우리가 가지고 있는 자료는 표본입니다. \n",
    ">* 정규성검정을 해주신 분들 잘하셨어요!! 자료의 크기가 애매할 경우 정규성, 독립성, 등분산성 검정해야합니다!!"
   ]
  },
  {
   "cell_type": "code",
   "execution_count": null,
   "metadata": {},
   "outputs": [],
   "source": []
  }
 ],
 "metadata": {
  "kernelspec": {
   "display_name": "Python 3",
   "language": "python",
   "name": "python3"
  },
  "language_info": {
   "codemirror_mode": {
    "name": "ipython",
    "version": 3
   },
   "file_extension": ".py",
   "mimetype": "text/x-python",
   "name": "python",
   "nbconvert_exporter": "python",
   "pygments_lexer": "ipython3",
   "version": "3.7.6"
  }
 },
 "nbformat": 4,
 "nbformat_minor": 4
}
