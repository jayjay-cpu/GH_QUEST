{
 "cells": [
  {
   "cell_type": "markdown",
   "metadata": {},
   "source": [
    "# EDA & t-test\n",
    "\n",
    "#### nyc_citibike.csv 를 이용해 'Pershing Square North' 와 'Broadway & E 22 St ' 의 주행시간(trip_duration)  의 평균이 같은지 알아보는 t-test 를 진행해보세요. \n",
    "#### 조건)\n",
    "\n",
    ">* 주행시간의 단위는 분(min) 으로 계산한다. \n",
    ">* 'Pershing Square North' 와 'Broadway & E 22 St ' 은 반납지점을 의미한다.\n",
    ">* 각 지점에서 반납한 자전거의 주행시간은 독립이라고 가정한다.\n",
    ">* t-test 를 진행하기 전 관련 변수에 관해 EDA 를 진행한다. \n"
   ]
  },
  {
   "cell_type": "code",
   "execution_count": 2,
   "metadata": {},
   "outputs": [],
   "source": [
    "import pandas as pd\n",
    "import numpy as np\n",
    "import seaborn as sns\n",
    "import matplotlib.pyplot as plt"
   ]
  },
  {
   "cell_type": "code",
   "execution_count": 208,
   "metadata": {},
   "outputs": [],
   "source": [
    "import matplotlib.pyplot as plt \n",
    "import platform                \n",
    "\n",
    "from matplotlib import font_manager, rc\n",
    "plt.rcParams['axes.unicode_minus']= False\n",
    "\n",
    "if platform.system() == 'Darwin': #맥os 사용자의 경우\n",
    "    plt.style.use('seaborn-darkgrid') \n",
    "    rc('font', family = 'AppleGothic')\n",
    "    \n",
    "elif platform.system() == 'Windows':#윈도우 사용자의 경우\n",
    "    path = 'c:/Windows/Fonts/malgun.ttf'\n",
    "    font_name = font_manager.FontProperties(fname=path).get_name()\n",
    "    plt.style.use('seaborn-darkgrid') # https://python-graph-gallery.com/199-matplotlib-style-sheets/\n",
    "    rc('font', family=font_name)"
   ]
  },
  {
   "cell_type": "markdown",
   "metadata": {},
   "source": [
    "### EDA\n",
    "조건에 맞게 데이터를 가공하고 'Pershing Square North' 와 'Broadway & E 22 St ' 에 반납한 자전거의 주행시간을 적절한 그래프로 나타내세요."
   ]
  },
  {
   "cell_type": "code",
   "execution_count": 455,
   "metadata": {
    "scrolled": true
   },
   "outputs": [
    {
     "data": {
      "text/html": [
       "<div>\n",
       "<style scoped>\n",
       "    .dataframe tbody tr th:only-of-type {\n",
       "        vertical-align: middle;\n",
       "    }\n",
       "\n",
       "    .dataframe tbody tr th {\n",
       "        vertical-align: top;\n",
       "    }\n",
       "\n",
       "    .dataframe thead th {\n",
       "        text-align: right;\n",
       "    }\n",
       "</style>\n",
       "<table border=\"1\" class=\"dataframe\">\n",
       "  <thead>\n",
       "    <tr style=\"text-align: right;\">\n",
       "      <th></th>\n",
       "      <th>start_date</th>\n",
       "      <th>end_date</th>\n",
       "      <th>start_hour</th>\n",
       "      <th>end_hour</th>\n",
       "      <th>trip_duration</th>\n",
       "      <th>start_station_id</th>\n",
       "      <th>start_station_name</th>\n",
       "      <th>start_station_latitude</th>\n",
       "      <th>start_station_longitude</th>\n",
       "      <th>end_station_id</th>\n",
       "      <th>end_station_name</th>\n",
       "      <th>end_station_latitude</th>\n",
       "      <th>end_station_longitude</th>\n",
       "      <th>bike_id</th>\n",
       "      <th>usertype</th>\n",
       "      <th>birth_year</th>\n",
       "      <th>gender</th>\n",
       "      <th>day_since_register</th>\n",
       "    </tr>\n",
       "  </thead>\n",
       "  <tbody>\n",
       "    <tr>\n",
       "      <th>0</th>\n",
       "      <td>2018-05-01</td>\n",
       "      <td>2018-05-01</td>\n",
       "      <td>4</td>\n",
       "      <td>4</td>\n",
       "      <td>390</td>\n",
       "      <td>3002</td>\n",
       "      <td>South End Ave &amp; Liberty St</td>\n",
       "      <td>40.711512</td>\n",
       "      <td>-74.015756</td>\n",
       "      <td>79</td>\n",
       "      <td>Franklin St &amp; W Broadway</td>\n",
       "      <td>40.719116</td>\n",
       "      <td>-74.006667</td>\n",
       "      <td>21105</td>\n",
       "      <td>Subscriber</td>\n",
       "      <td>1945</td>\n",
       "      <td>male</td>\n",
       "      <td>36</td>\n",
       "    </tr>\n",
       "    <tr>\n",
       "      <th>1</th>\n",
       "      <td>2018-05-01</td>\n",
       "      <td>2018-05-01</td>\n",
       "      <td>1</td>\n",
       "      <td>1</td>\n",
       "      <td>854</td>\n",
       "      <td>3611</td>\n",
       "      <td>Vernon Blvd &amp; 47 Rd</td>\n",
       "      <td>40.744907</td>\n",
       "      <td>-73.953457</td>\n",
       "      <td>3572</td>\n",
       "      <td>34 Ave &amp; 38 St</td>\n",
       "      <td>40.756913</td>\n",
       "      <td>-73.921631</td>\n",
       "      <td>32219</td>\n",
       "      <td>Subscriber</td>\n",
       "      <td>1998</td>\n",
       "      <td>male</td>\n",
       "      <td>29</td>\n",
       "    </tr>\n",
       "    <tr>\n",
       "      <th>2</th>\n",
       "      <td>2018-05-01</td>\n",
       "      <td>2018-05-01</td>\n",
       "      <td>4</td>\n",
       "      <td>4</td>\n",
       "      <td>526</td>\n",
       "      <td>515</td>\n",
       "      <td>W 43 St &amp; 10 Ave</td>\n",
       "      <td>40.760094</td>\n",
       "      <td>-73.994618</td>\n",
       "      <td>388</td>\n",
       "      <td>W 26 St &amp; 10 Ave</td>\n",
       "      <td>40.749718</td>\n",
       "      <td>-74.002950</td>\n",
       "      <td>33433</td>\n",
       "      <td>Subscriber</td>\n",
       "      <td>1954</td>\n",
       "      <td>male</td>\n",
       "      <td>55</td>\n",
       "    </tr>\n",
       "    <tr>\n",
       "      <th>3</th>\n",
       "      <td>2018-05-01</td>\n",
       "      <td>2018-05-01</td>\n",
       "      <td>3</td>\n",
       "      <td>3</td>\n",
       "      <td>885</td>\n",
       "      <td>3641</td>\n",
       "      <td>Broadway &amp; W 25 St</td>\n",
       "      <td>40.742869</td>\n",
       "      <td>-73.989186</td>\n",
       "      <td>336</td>\n",
       "      <td>Sullivan St &amp; Washington Sq</td>\n",
       "      <td>40.730477</td>\n",
       "      <td>-73.999061</td>\n",
       "      <td>32028</td>\n",
       "      <td>Subscriber</td>\n",
       "      <td>1963</td>\n",
       "      <td>male</td>\n",
       "      <td>32</td>\n",
       "    </tr>\n",
       "    <tr>\n",
       "      <th>4</th>\n",
       "      <td>2018-05-01</td>\n",
       "      <td>2018-05-01</td>\n",
       "      <td>1</td>\n",
       "      <td>1</td>\n",
       "      <td>324</td>\n",
       "      <td>3440</td>\n",
       "      <td>Fulton St &amp; Adams St</td>\n",
       "      <td>40.692418</td>\n",
       "      <td>-73.989495</td>\n",
       "      <td>3308</td>\n",
       "      <td>Kane St &amp; Clinton St</td>\n",
       "      <td>40.686176</td>\n",
       "      <td>-73.996453</td>\n",
       "      <td>26425</td>\n",
       "      <td>Subscriber</td>\n",
       "      <td>1965</td>\n",
       "      <td>male</td>\n",
       "      <td>34</td>\n",
       "    </tr>\n",
       "  </tbody>\n",
       "</table>\n",
       "</div>"
      ],
      "text/plain": [
       "   start_date    end_date  start_hour  end_hour  trip_duration  \\\n",
       "0  2018-05-01  2018-05-01           4         4            390   \n",
       "1  2018-05-01  2018-05-01           1         1            854   \n",
       "2  2018-05-01  2018-05-01           4         4            526   \n",
       "3  2018-05-01  2018-05-01           3         3            885   \n",
       "4  2018-05-01  2018-05-01           1         1            324   \n",
       "\n",
       "   start_station_id          start_station_name  start_station_latitude  \\\n",
       "0              3002  South End Ave & Liberty St               40.711512   \n",
       "1              3611         Vernon Blvd & 47 Rd               40.744907   \n",
       "2               515            W 43 St & 10 Ave               40.760094   \n",
       "3              3641          Broadway & W 25 St               40.742869   \n",
       "4              3440        Fulton St & Adams St               40.692418   \n",
       "\n",
       "   start_station_longitude  end_station_id             end_station_name  \\\n",
       "0               -74.015756              79     Franklin St & W Broadway   \n",
       "1               -73.953457            3572               34 Ave & 38 St   \n",
       "2               -73.994618             388             W 26 St & 10 Ave   \n",
       "3               -73.989186             336  Sullivan St & Washington Sq   \n",
       "4               -73.989495            3308         Kane St & Clinton St   \n",
       "\n",
       "   end_station_latitude  end_station_longitude  bike_id    usertype  \\\n",
       "0             40.719116             -74.006667    21105  Subscriber   \n",
       "1             40.756913             -73.921631    32219  Subscriber   \n",
       "2             40.749718             -74.002950    33433  Subscriber   \n",
       "3             40.730477             -73.999061    32028  Subscriber   \n",
       "4             40.686176             -73.996453    26425  Subscriber   \n",
       "\n",
       "   birth_year gender  day_since_register  \n",
       "0        1945   male                  36  \n",
       "1        1998   male                  29  \n",
       "2        1954   male                  55  \n",
       "3        1963   male                  32  \n",
       "4        1965   male                  34  "
      ]
     },
     "execution_count": 455,
     "metadata": {},
     "output_type": "execute_result"
    }
   ],
   "source": [
    "df=pd.read_csv('nyc_citibike.csv')\n",
    "df.head()"
   ]
  },
  {
   "cell_type": "code",
   "execution_count": 456,
   "metadata": {},
   "outputs": [
    {
     "data": {
      "text/plain": [
       "start_date                 0\n",
       "end_date                   0\n",
       "start_hour                 0\n",
       "end_hour                   0\n",
       "trip_duration              0\n",
       "start_station_id           0\n",
       "start_station_name         0\n",
       "start_station_latitude     0\n",
       "start_station_longitude    0\n",
       "end_station_id             0\n",
       "end_station_name           0\n",
       "end_station_latitude       0\n",
       "end_station_longitude      0\n",
       "bike_id                    0\n",
       "usertype                   0\n",
       "birth_year                 0\n",
       "gender                     0\n",
       "day_since_register         0\n",
       "dtype: int64"
      ]
     },
     "execution_count": 456,
     "metadata": {},
     "output_type": "execute_result"
    }
   ],
   "source": [
    "#결측값 확인\n",
    "df.isnull().sum()"
   ]
  },
  {
   "cell_type": "code",
   "execution_count": 457,
   "metadata": {},
   "outputs": [
    {
     "name": "stdout",
     "output_type": "stream",
     "text": [
      "<class 'pandas.core.frame.DataFrame'>\n",
      "RangeIndex: 72035 entries, 0 to 72034\n",
      "Data columns (total 18 columns):\n",
      "start_date                 72035 non-null object\n",
      "end_date                   72035 non-null object\n",
      "start_hour                 72035 non-null int64\n",
      "end_hour                   72035 non-null int64\n",
      "trip_duration              72035 non-null int64\n",
      "start_station_id           72035 non-null int64\n",
      "start_station_name         72035 non-null object\n",
      "start_station_latitude     72035 non-null float64\n",
      "start_station_longitude    72035 non-null float64\n",
      "end_station_id             72035 non-null int64\n",
      "end_station_name           72035 non-null object\n",
      "end_station_latitude       72035 non-null float64\n",
      "end_station_longitude      72035 non-null float64\n",
      "bike_id                    72035 non-null int64\n",
      "usertype                   72035 non-null object\n",
      "birth_year                 72035 non-null int64\n",
      "gender                     72035 non-null object\n",
      "day_since_register         72035 non-null int64\n",
      "dtypes: float64(4), int64(8), object(6)\n",
      "memory usage: 9.9+ MB\n"
     ]
    }
   ],
   "source": [
    "df.info()"
   ]
  },
  {
   "cell_type": "markdown",
   "metadata": {},
   "source": [
    "> 조건: \n",
    "    1) 주행시간의 단위는 분(min) 으로 계산한다.\n",
    ">   \n",
    "    2) 'Pershing Square North' 와 'Broadway & E 22 St ' 은 반납지점을 의미한다."
   ]
  },
  {
   "cell_type": "code",
   "execution_count": 458,
   "metadata": {},
   "outputs": [],
   "source": [
    "df['trip_duration']=df['trip_duration'].apply(lambda row: round(row/60, 2))"
   ]
  },
  {
   "cell_type": "code",
   "execution_count": 497,
   "metadata": {},
   "outputs": [],
   "source": [
    "df_end=df[['bike_id','birth_year','gender','trip_duration','start_station_name','end_station_id','end_station_name','start_station_latitude',\n",
    "           'start_station_longitude','end_station_latitude', 'end_station_longitude']]\n",
    "df_end=df_end.loc[(df_end['end_station_name']=='Pershing Square North')|(df_end['end_station_name']=='Broadway & E 22 St')]\n",
    "\n"
   ]
  },
  {
   "cell_type": "code",
   "execution_count": 498,
   "metadata": {},
   "outputs": [
    {
     "data": {
      "text/html": [
       "<div>\n",
       "<style scoped>\n",
       "    .dataframe tbody tr th:only-of-type {\n",
       "        vertical-align: middle;\n",
       "    }\n",
       "\n",
       "    .dataframe tbody tr th {\n",
       "        vertical-align: top;\n",
       "    }\n",
       "\n",
       "    .dataframe thead th {\n",
       "        text-align: right;\n",
       "    }\n",
       "</style>\n",
       "<table border=\"1\" class=\"dataframe\">\n",
       "  <thead>\n",
       "    <tr style=\"text-align: right;\">\n",
       "      <th></th>\n",
       "      <th>bike_id</th>\n",
       "      <th>birth_year</th>\n",
       "      <th>gender</th>\n",
       "      <th>trip_duration</th>\n",
       "      <th>start_station_name</th>\n",
       "      <th>end_station_id</th>\n",
       "      <th>end_station_name</th>\n",
       "      <th>start_station_latitude</th>\n",
       "      <th>start_station_longitude</th>\n",
       "      <th>end_station_latitude</th>\n",
       "      <th>end_station_longitude</th>\n",
       "    </tr>\n",
       "  </thead>\n",
       "  <tbody>\n",
       "    <tr>\n",
       "      <th>372</th>\n",
       "      <td>18539</td>\n",
       "      <td>1955</td>\n",
       "      <td>male</td>\n",
       "      <td>19.25</td>\n",
       "      <td>Broadway &amp; W 60 St</td>\n",
       "      <td>402</td>\n",
       "      <td>Broadway &amp; E 22 St</td>\n",
       "      <td>40.769155</td>\n",
       "      <td>-73.981918</td>\n",
       "      <td>40.740343</td>\n",
       "      <td>-73.989551</td>\n",
       "    </tr>\n",
       "    <tr>\n",
       "      <th>497</th>\n",
       "      <td>31214</td>\n",
       "      <td>1959</td>\n",
       "      <td>male</td>\n",
       "      <td>14.88</td>\n",
       "      <td>11 Ave &amp; W 41 St</td>\n",
       "      <td>519</td>\n",
       "      <td>Pershing Square North</td>\n",
       "      <td>40.760301</td>\n",
       "      <td>-73.998842</td>\n",
       "      <td>40.751873</td>\n",
       "      <td>-73.977706</td>\n",
       "    </tr>\n",
       "    <tr>\n",
       "      <th>567</th>\n",
       "      <td>25999</td>\n",
       "      <td>1993</td>\n",
       "      <td>male</td>\n",
       "      <td>9.85</td>\n",
       "      <td>Allen St &amp; Stanton St</td>\n",
       "      <td>402</td>\n",
       "      <td>Broadway &amp; E 22 St</td>\n",
       "      <td>40.722055</td>\n",
       "      <td>-73.989111</td>\n",
       "      <td>40.740343</td>\n",
       "      <td>-73.989551</td>\n",
       "    </tr>\n",
       "    <tr>\n",
       "      <th>631</th>\n",
       "      <td>25781</td>\n",
       "      <td>1974</td>\n",
       "      <td>male</td>\n",
       "      <td>11.37</td>\n",
       "      <td>11 Ave &amp; W 41 St</td>\n",
       "      <td>519</td>\n",
       "      <td>Pershing Square North</td>\n",
       "      <td>40.760301</td>\n",
       "      <td>-73.998842</td>\n",
       "      <td>40.751873</td>\n",
       "      <td>-73.977706</td>\n",
       "    </tr>\n",
       "    <tr>\n",
       "      <th>719</th>\n",
       "      <td>31653</td>\n",
       "      <td>1986</td>\n",
       "      <td>male</td>\n",
       "      <td>8.33</td>\n",
       "      <td>Mercer St &amp; Bleecker St</td>\n",
       "      <td>402</td>\n",
       "      <td>Broadway &amp; E 22 St</td>\n",
       "      <td>40.727064</td>\n",
       "      <td>-73.996621</td>\n",
       "      <td>40.740343</td>\n",
       "      <td>-73.989551</td>\n",
       "    </tr>\n",
       "  </tbody>\n",
       "</table>\n",
       "</div>"
      ],
      "text/plain": [
       "     bike_id  birth_year gender  trip_duration       start_station_name  \\\n",
       "372    18539        1955   male          19.25       Broadway & W 60 St   \n",
       "497    31214        1959   male          14.88         11 Ave & W 41 St   \n",
       "567    25999        1993   male           9.85    Allen St & Stanton St   \n",
       "631    25781        1974   male          11.37         11 Ave & W 41 St   \n",
       "719    31653        1986   male           8.33  Mercer St & Bleecker St   \n",
       "\n",
       "     end_station_id       end_station_name  start_station_latitude  \\\n",
       "372             402     Broadway & E 22 St               40.769155   \n",
       "497             519  Pershing Square North               40.760301   \n",
       "567             402     Broadway & E 22 St               40.722055   \n",
       "631             519  Pershing Square North               40.760301   \n",
       "719             402     Broadway & E 22 St               40.727064   \n",
       "\n",
       "     start_station_longitude  end_station_latitude  end_station_longitude  \n",
       "372               -73.981918             40.740343             -73.989551  \n",
       "497               -73.998842             40.751873             -73.977706  \n",
       "567               -73.989111             40.740343             -73.989551  \n",
       "631               -73.998842             40.751873             -73.977706  \n",
       "719               -73.996621             40.740343             -73.989551  "
      ]
     },
     "execution_count": 498,
     "metadata": {},
     "output_type": "execute_result"
    }
   ],
   "source": [
    "df_end.head()"
   ]
  },
  {
   "cell_type": "code",
   "execution_count": 499,
   "metadata": {},
   "outputs": [],
   "source": [
    "# start~end 까지의 거리를 계산하기 위해 함수 정의\n",
    "import math\n",
    "\n",
    "def distance(start_lat, start_long, end_lat, end_long):\n",
    "    radius = 6373 # radius of earth\n",
    "\n",
    "    dlat = math.radians(end_lat-start_lat)\n",
    "    dlon = math.radians(end_long-start_long)\n",
    "    a = math.sin(dlat/2) **2 + math.cos(math.radians(start_lat)) \\\n",
    "        * math.cos(math.radians(end_lat)) * math.sin(dlon/2) **2\n",
    "    c = 2 * math.atan2(math.sqrt(a), math.sqrt(1-a))\n",
    "    d = radius * c\n",
    "\n",
    "    return d"
   ]
  },
  {
   "cell_type": "code",
   "execution_count": 500,
   "metadata": {},
   "outputs": [],
   "source": [
    "df_end['distance']=df_end.apply(lambda row: distance(row['start_station_latitude']\n",
    "                                  , row['start_station_longitude'],row['end_station_latitude']\n",
    "                                  ,row['end_station_longitude']) , axis=1)"
   ]
  },
  {
   "cell_type": "code",
   "execution_count": 501,
   "metadata": {},
   "outputs": [],
   "source": [
    "#distance 계산 후, 필요없어진 칼럼 삭제하기\n",
    "df_end=df_end.drop(['start_station_latitude', 'start_station_longitude'\n",
    "             ,'end_station_latitude','end_station_longitude'], axis=1)"
   ]
  },
  {
   "cell_type": "code",
   "execution_count": 502,
   "metadata": {
    "scrolled": true
   },
   "outputs": [
    {
     "data": {
      "text/html": [
       "<div>\n",
       "<style scoped>\n",
       "    .dataframe tbody tr th:only-of-type {\n",
       "        vertical-align: middle;\n",
       "    }\n",
       "\n",
       "    .dataframe tbody tr th {\n",
       "        vertical-align: top;\n",
       "    }\n",
       "\n",
       "    .dataframe thead th {\n",
       "        text-align: right;\n",
       "    }\n",
       "</style>\n",
       "<table border=\"1\" class=\"dataframe\">\n",
       "  <thead>\n",
       "    <tr style=\"text-align: right;\">\n",
       "      <th></th>\n",
       "      <th>end_station_name</th>\n",
       "      <th>start_station_name</th>\n",
       "      <th>distance</th>\n",
       "      <th>trip_duration</th>\n",
       "    </tr>\n",
       "  </thead>\n",
       "  <tbody>\n",
       "    <tr>\n",
       "      <th>0</th>\n",
       "      <td>Broadway &amp; E 22 St</td>\n",
       "      <td>1 Ave &amp; E 16 St</td>\n",
       "      <td>1.122274</td>\n",
       "      <td>7.933333</td>\n",
       "    </tr>\n",
       "    <tr>\n",
       "      <th>1</th>\n",
       "      <td>Broadway &amp; E 22 St</td>\n",
       "      <td>1 Ave &amp; E 18 St</td>\n",
       "      <td>1.050693</td>\n",
       "      <td>8.365000</td>\n",
       "    </tr>\n",
       "    <tr>\n",
       "      <th>2</th>\n",
       "      <td>Broadway &amp; E 22 St</td>\n",
       "      <td>1 Ave &amp; E 30 St</td>\n",
       "      <td>1.202141</td>\n",
       "      <td>10.456667</td>\n",
       "    </tr>\n",
       "    <tr>\n",
       "      <th>3</th>\n",
       "      <td>Broadway &amp; E 22 St</td>\n",
       "      <td>1 Ave &amp; E 68 St</td>\n",
       "      <td>3.809196</td>\n",
       "      <td>26.280000</td>\n",
       "    </tr>\n",
       "    <tr>\n",
       "      <th>4</th>\n",
       "      <td>Broadway &amp; E 22 St</td>\n",
       "      <td>1 Ave &amp; E 78 St</td>\n",
       "      <td>4.599410</td>\n",
       "      <td>26.380000</td>\n",
       "    </tr>\n",
       "  </tbody>\n",
       "</table>\n",
       "</div>"
      ],
      "text/plain": [
       "     end_station_name start_station_name  distance  trip_duration\n",
       "0  Broadway & E 22 St    1 Ave & E 16 St  1.122274       7.933333\n",
       "1  Broadway & E 22 St    1 Ave & E 18 St  1.050693       8.365000\n",
       "2  Broadway & E 22 St    1 Ave & E 30 St  1.202141      10.456667\n",
       "3  Broadway & E 22 St    1 Ave & E 68 St  3.809196      26.280000\n",
       "4  Broadway & E 22 St    1 Ave & E 78 St  4.599410      26.380000"
      ]
     },
     "execution_count": 502,
     "metadata": {},
     "output_type": "execute_result"
    }
   ],
   "source": [
    "# start~ end까지의 거리를 계산하고, 주행거리와 비교\n",
    "# 그런데, 같은 지점에서 시작했는데, 거리가 다른 애들이 있기 때문에 평균을 구한다 \n",
    "# 주행거리 분명히 소수점 2째 자리 반올림했는데 왜 다시 이렇게 되었는지 모를일...;;\n",
    "data=df_end.groupby(['end_station_name','start_station_name']).mean()[['distance','trip_duration']].reset_index()\n",
    "data.head()"
   ]
  },
  {
   "cell_type": "markdown",
   "metadata": {},
   "source": [
    "## 단변수 분석 및 시각화\n",
    "- continuous, binary, categorical 변수 파악 후 시각화"
   ]
  },
  {
   "cell_type": "code",
   "execution_count": 503,
   "metadata": {
    "scrolled": true
   },
   "outputs": [
    {
     "name": "stdout",
     "output_type": "stream",
     "text": [
      "bike_id unique values? 1062\n",
      "birth_year unique values? 59\n",
      "gender unique values? 3\n",
      "trip_duration unique values? 765\n",
      "start_station_name unique values? 298\n",
      "end_station_id unique values? 2\n",
      "end_station_name unique values? 2\n",
      "distance unique values? 423\n"
     ]
    }
   ],
   "source": [
    "# 변수별 데이터타입 확인\n",
    "for col in df_end.columns:\n",
    "    print(col,'unique values?', df_end[col].nunique())"
   ]
  },
  {
   "cell_type": "markdown",
   "metadata": {},
   "source": [
    "## 변수별 데이터 타입\n",
    "- bike_id: categorical\n",
    "- birth_year: categorical\n",
    "- gender: binary\n",
    "- trip_duration: continuous\n",
    "- start_station_name: categorical \n",
    "- end_station_id: binary\n",
    "- end_station_name: binary\n",
    "- distance: continuous"
   ]
  },
  {
   "cell_type": "markdown",
   "metadata": {},
   "source": [
    "## 1) binary\n",
    "- gender, end_station_name"
   ]
  },
  {
   "cell_type": "code",
   "execution_count": 508,
   "metadata": {
    "scrolled": true
   },
   "outputs": [
    {
     "data": {
      "image/png": "[encoded data removed]",
      "text/plain": [
       "<Figure size 432x288 with 1 Axes>"
      ]
     },
     "metadata": {},
     "output_type": "display_data"
    }
   ],
   "source": [
    "# binary 데이터 분포가 어떻게 되어있는지 보자\n",
    "sns.barplot(x='end_station_name', y='bike_id', hue='gender', data=bin.reset_index())\n",
    "plt.ylabel('count')\n",
    "plt.show()"
   ]
  },
  {
   "cell_type": "markdown",
   "metadata": {},
   "source": [
    "> 두 집단의 크기는 다르다\n",
    "- pershing의 데이터 크기 = broadway의 데이터 크기의 두배\n",
    "- -> 스케일을 맞춰주고 다시 플랏해보자"
   ]
  },
  {
   "cell_type": "code",
   "execution_count": 587,
   "metadata": {
    "scrolled": true
   },
   "outputs": [
    {
     "data": {
      "text/html": [
       "<div>\n",
       "<style scoped>\n",
       "    .dataframe tbody tr th:only-of-type {\n",
       "        vertical-align: middle;\n",
       "    }\n",
       "\n",
       "    .dataframe tbody tr th {\n",
       "        vertical-align: top;\n",
       "    }\n",
       "\n",
       "    .dataframe thead th {\n",
       "        text-align: right;\n",
       "    }\n",
       "</style>\n",
       "<table border=\"1\" class=\"dataframe\">\n",
       "  <thead>\n",
       "    <tr style=\"text-align: right;\">\n",
       "      <th></th>\n",
       "      <th>end_station_id</th>\n",
       "      <th>gender</th>\n",
       "      <th>bike_id</th>\n",
       "      <th>birth_year</th>\n",
       "      <th>trip_duration</th>\n",
       "      <th>start_station_name</th>\n",
       "      <th>end_station_name</th>\n",
       "      <th>distance</th>\n",
       "    </tr>\n",
       "  </thead>\n",
       "  <tbody>\n",
       "    <tr>\n",
       "      <th>0</th>\n",
       "      <td>402</td>\n",
       "      <td>female</td>\n",
       "      <td>92</td>\n",
       "      <td>92</td>\n",
       "      <td>92</td>\n",
       "      <td>92</td>\n",
       "      <td>92</td>\n",
       "      <td>92</td>\n",
       "    </tr>\n",
       "    <tr>\n",
       "      <th>1</th>\n",
       "      <td>402</td>\n",
       "      <td>male</td>\n",
       "      <td>330</td>\n",
       "      <td>330</td>\n",
       "      <td>330</td>\n",
       "      <td>330</td>\n",
       "      <td>330</td>\n",
       "      <td>330</td>\n",
       "    </tr>\n",
       "    <tr>\n",
       "      <th>2</th>\n",
       "      <td>402</td>\n",
       "      <td>unknown</td>\n",
       "      <td>26</td>\n",
       "      <td>26</td>\n",
       "      <td>26</td>\n",
       "      <td>26</td>\n",
       "      <td>26</td>\n",
       "      <td>26</td>\n",
       "    </tr>\n",
       "    <tr>\n",
       "      <th>3</th>\n",
       "      <td>519</td>\n",
       "      <td>female</td>\n",
       "      <td>97</td>\n",
       "      <td>97</td>\n",
       "      <td>97</td>\n",
       "      <td>97</td>\n",
       "      <td>97</td>\n",
       "      <td>97</td>\n",
       "    </tr>\n",
       "    <tr>\n",
       "      <th>4</th>\n",
       "      <td>519</td>\n",
       "      <td>male</td>\n",
       "      <td>626</td>\n",
       "      <td>626</td>\n",
       "      <td>626</td>\n",
       "      <td>626</td>\n",
       "      <td>626</td>\n",
       "      <td>626</td>\n",
       "    </tr>\n",
       "    <tr>\n",
       "      <th>5</th>\n",
       "      <td>519</td>\n",
       "      <td>unknown</td>\n",
       "      <td>27</td>\n",
       "      <td>27</td>\n",
       "      <td>27</td>\n",
       "      <td>27</td>\n",
       "      <td>27</td>\n",
       "      <td>27</td>\n",
       "    </tr>\n",
       "  </tbody>\n",
       "</table>\n",
       "</div>"
      ],
      "text/plain": [
       "   end_station_id   gender  bike_id  birth_year  trip_duration  \\\n",
       "0             402   female       92          92             92   \n",
       "1             402     male      330         330            330   \n",
       "2             402  unknown       26          26             26   \n",
       "3             519   female       97          97             97   \n",
       "4             519     male      626         626            626   \n",
       "5             519  unknown       27          27             27   \n",
       "\n",
       "   start_station_name  end_station_name  distance  \n",
       "0                  92                92        92  \n",
       "1                 330               330       330  \n",
       "2                  26                26        26  \n",
       "3                  97                97        97  \n",
       "4                 626               626       626  \n",
       "5                  27                27        27  "
      ]
     },
     "execution_count": 587,
     "metadata": {},
     "output_type": "execute_result"
    }
   ],
   "source": [
    "#scale 맞춰주자\n",
    "bin=df_end.groupby(['end_station_id','gender']).count().reset_index()\n",
    "bin"
   ]
  },
  {
   "cell_type": "code",
   "execution_count": 590,
   "metadata": {},
   "outputs": [],
   "source": [
    "#scale!! \n",
    "sum402=bin['bike_id'].loc[bin['end_station_id']==402].sum()\n",
    "sum519=bin['bike_id'].loc[bin['end_station_id']==519].sum()\n",
    "\n",
    "bin.loc[bin['end_station_id']==402,'bike_id']/=sum402\n",
    "bin.loc[bin['end_station_id']==519,'bike_id']/=sum519"
   ]
  },
  {
   "cell_type": "code",
   "execution_count": 599,
   "metadata": {},
   "outputs": [
    {
     "data": {
      "text/plain": [
       "<matplotlib.axes._subplots.AxesSubplot at 0x1a2690a240>"
      ]
     },
     "execution_count": 599,
     "metadata": {},
     "output_type": "execute_result"
    },
    {
     "data": {
      "image/png": "[encoded data removed]",
      "text/plain": [
       "<Figure size 432x288 with 1 Axes>"
      ]
     },
     "metadata": {},
     "output_type": "display_data"
    }
   ],
   "source": [
    "sns.barplot(x='end_station_id',y='bike_id',hue='gender',data=bin)"
   ]
  },
  {
   "cell_type": "markdown",
   "metadata": {},
   "source": [
    "> 스케일을 맞춰서 플랏해보니,\n",
    "- 집단의 크기는 402(broadway)가 519(pershing)의 1/2정도이며,\n",
    "- 성별 분포는, 남성: 여성의 분포는 비슷하게 남성이 약 3배 많은 것을 알 수 있다"
   ]
  },
  {
   "cell_type": "markdown",
   "metadata": {},
   "source": [
    "## 2) continuous\n",
    "- trip_duration, distance"
   ]
  },
  {
   "cell_type": "code",
   "execution_count": 512,
   "metadata": {},
   "outputs": [
    {
     "data": {
      "image/png": "[encoded data removed]",
      "text/plain": [
       "<Figure size 720x288 with 1 Axes>"
      ]
     },
     "metadata": {},
     "output_type": "display_data"
    }
   ],
   "source": [
    "#continuous 인 애들과 내가 궁금한 end_station 간의 관계를 비교해보자\n",
    "#분포를 보기 편하게 누적분포를 보자\n",
    "data1=df_end.loc[df_end['end_station_id']==402].groupby('trip_duration').count().cumsum().reset_index()\n",
    "data2=df_end.loc[df_end['end_station_id']==519].groupby('trip_duration').count().cumsum().reset_index()\n",
    "\n",
    "f, ax = plt.subplots(figsize=(10,4))\n",
    "sns.lineplot(x='trip_duration',y='end_station_name',data=data1)\n",
    "sns.lineplot(x='trip_duration',y='end_station_name',data=data2)\n",
    "plt.ylabel('count_누적')\n",
    "plt.show()\n"
   ]
  },
  {
   "cell_type": "code",
   "execution_count": 511,
   "metadata": {
    "scrolled": true
   },
   "outputs": [
    {
     "data": {
      "image/png": "[encoded data removed]",
      "text/plain": [
       "<Figure size 1440x432 with 1 Axes>"
      ]
     },
     "metadata": {},
     "output_type": "display_data"
    },
    {
     "data": {
      "image/png": "[encoded data removed]",
      "text/plain": [
       "<Figure size 1440x432 with 1 Axes>"
      ]
     },
     "metadata": {},
     "output_type": "display_data"
    }
   ],
   "source": [
    "cont=['trip_duration','distance']\n",
    "for i in range(2):\n",
    "    c=cont[i]\n",
    "    f, ax=plt.subplots(figsize=(20,6))\n",
    "    \n",
    "    sns.kdeplot(data=df_end.loc[df_end['end_station_name']=='Broadway & E 22 St'][c], ax=ax, label='Broadway_E_22_St')\n",
    "    sns.kdeplot(data=df_end.loc[df_end['end_station_name']=='Pershing Square North'][c], ax=ax, label='Pershing_Square_North')\n",
    "    plt.ylabel(c)\n",
    "    plt.title(c)\n",
    "    plt.show()\n"
   ]
  },
  {
   "cell_type": "markdown",
   "metadata": {},
   "source": [
    "> trip_duration, distance에 대하여, 두 집단의 분포 자체는 거의 비슷"
   ]
  },
  {
   "cell_type": "markdown",
   "metadata": {},
   "source": [
    "## 3) categorical \n",
    "- birth_year, bike_id, start_station_name\n",
    "- bike_id는 유의미하지 않을 것으로 판단하여 생략한다"
   ]
  },
  {
   "cell_type": "markdown",
   "metadata": {},
   "source": [
    "### (1) birth_year\n",
    "- 나이가 많을 수록 주행시간, 거리가 짧을 것이다"
   ]
  },
  {
   "cell_type": "code",
   "execution_count": 521,
   "metadata": {
    "scrolled": true
   },
   "outputs": [
    {
     "data": {
      "text/html": [
       "<div>\n",
       "<style scoped>\n",
       "    .dataframe tbody tr th:only-of-type {\n",
       "        vertical-align: middle;\n",
       "    }\n",
       "\n",
       "    .dataframe tbody tr th {\n",
       "        vertical-align: top;\n",
       "    }\n",
       "\n",
       "    .dataframe thead th {\n",
       "        text-align: right;\n",
       "    }\n",
       "</style>\n",
       "<table border=\"1\" class=\"dataframe\">\n",
       "  <thead>\n",
       "    <tr style=\"text-align: right;\">\n",
       "      <th></th>\n",
       "      <th>birth_year</th>\n",
       "      <th>trip_duration</th>\n",
       "      <th>distance</th>\n",
       "    </tr>\n",
       "  </thead>\n",
       "  <tbody>\n",
       "    <tr>\n",
       "      <th>0</th>\n",
       "      <td>1916</td>\n",
       "      <td>42.22</td>\n",
       "      <td>6.014165</td>\n",
       "    </tr>\n",
       "    <tr>\n",
       "      <th>1</th>\n",
       "      <td>1942</td>\n",
       "      <td>8.47</td>\n",
       "      <td>0.884155</td>\n",
       "    </tr>\n",
       "    <tr>\n",
       "      <th>2</th>\n",
       "      <td>1943</td>\n",
       "      <td>11.82</td>\n",
       "      <td>0.000000</td>\n",
       "    </tr>\n",
       "    <tr>\n",
       "      <th>3</th>\n",
       "      <td>1944</td>\n",
       "      <td>18.68</td>\n",
       "      <td>1.710028</td>\n",
       "    </tr>\n",
       "    <tr>\n",
       "      <th>4</th>\n",
       "      <td>1945</td>\n",
       "      <td>8.13</td>\n",
       "      <td>1.199658</td>\n",
       "    </tr>\n",
       "  </tbody>\n",
       "</table>\n",
       "</div>"
      ],
      "text/plain": [
       "   birth_year  trip_duration  distance\n",
       "0        1916          42.22  6.014165\n",
       "1        1942           8.47  0.884155\n",
       "2        1943          11.82  0.000000\n",
       "3        1944          18.68  1.710028\n",
       "4        1945           8.13  1.199658"
      ]
     },
     "execution_count": 521,
     "metadata": {},
     "output_type": "execute_result"
    }
   ],
   "source": [
    "birth=df_end.groupby('birth_year').mean()[['trip_duration','distance']].reset_index()\n",
    "birth.head()"
   ]
  },
  {
   "cell_type": "code",
   "execution_count": 533,
   "metadata": {},
   "outputs": [
    {
     "data": {
      "image/png": "[encoded data removed]",
      "text/plain": [
       "<Figure size 1440x720 with 2 Axes>"
      ]
     },
     "metadata": {},
     "output_type": "display_data"
    }
   ],
   "source": [
    "f, ax = plt.subplots(1,1,figsize=(20,10))\n",
    "\n",
    "ax2 = ax.twinx()\n",
    "ax.bar(birth['birth_year'], birth[\"trip_duration\"], color='lightblue')\n",
    "ax2.scatter(birth['birth_year'], birth[\"distance\"], marker='x')\n",
    "ax.set_ylabel('trip_duration')\n",
    "ax2.set_ylabel('distance')\n",
    "ax.set_xlabel('birth_year')\n",
    "plt.title('birth year 과 주행시간/거리 의 관계')\n",
    "plt.show()"
   ]
  },
  {
   "cell_type": "markdown",
   "metadata": {},
   "source": [
    "> 예상과 달리, birth year과 주행거리/시간은 유의미한 관계가 없다.\n",
    "- 그리고, 1916년도에 미친듯한 주행거리와 시간을 보이는 왼쪽의 아이는 아마도 birth year가 잘못되었거나, \n",
    "할아버지 계정을 사용한게 아닐까.."
   ]
  },
  {
   "cell_type": "markdown",
   "metadata": {},
   "source": [
    "### (2) start_station_name"
   ]
  },
  {
   "cell_type": "code",
   "execution_count": 471,
   "metadata": {},
   "outputs": [
    {
     "data": {
      "text/html": [
       "<div>\n",
       "<style scoped>\n",
       "    .dataframe tbody tr th:only-of-type {\n",
       "        vertical-align: middle;\n",
       "    }\n",
       "\n",
       "    .dataframe tbody tr th {\n",
       "        vertical-align: top;\n",
       "    }\n",
       "\n",
       "    .dataframe thead th {\n",
       "        text-align: right;\n",
       "    }\n",
       "</style>\n",
       "<table border=\"1\" class=\"dataframe\">\n",
       "  <thead>\n",
       "    <tr style=\"text-align: right;\">\n",
       "      <th></th>\n",
       "      <th>end_station_id</th>\n",
       "      <th>start_station_name</th>\n",
       "      <th>count</th>\n",
       "    </tr>\n",
       "  </thead>\n",
       "  <tbody>\n",
       "    <tr>\n",
       "      <th>0</th>\n",
       "      <td>402</td>\n",
       "      <td>1 Ave &amp; E 16 St</td>\n",
       "      <td>3</td>\n",
       "    </tr>\n",
       "    <tr>\n",
       "      <th>1</th>\n",
       "      <td>402</td>\n",
       "      <td>1 Ave &amp; E 18 St</td>\n",
       "      <td>4</td>\n",
       "    </tr>\n",
       "    <tr>\n",
       "      <th>2</th>\n",
       "      <td>402</td>\n",
       "      <td>1 Ave &amp; E 30 St</td>\n",
       "      <td>3</td>\n",
       "    </tr>\n",
       "    <tr>\n",
       "      <th>3</th>\n",
       "      <td>402</td>\n",
       "      <td>1 Ave &amp; E 68 St</td>\n",
       "      <td>1</td>\n",
       "    </tr>\n",
       "    <tr>\n",
       "      <th>4</th>\n",
       "      <td>402</td>\n",
       "      <td>1 Ave &amp; E 78 St</td>\n",
       "      <td>1</td>\n",
       "    </tr>\n",
       "  </tbody>\n",
       "</table>\n",
       "</div>"
      ],
      "text/plain": [
       "   end_station_id start_station_name  count\n",
       "0             402    1 Ave & E 16 St      3\n",
       "1             402    1 Ave & E 18 St      4\n",
       "2             402    1 Ave & E 30 St      3\n",
       "3             402    1 Ave & E 68 St      1\n",
       "4             402    1 Ave & E 78 St      1"
      ]
     },
     "execution_count": 471,
     "metadata": {},
     "output_type": "execute_result"
    }
   ],
   "source": [
    "data3=df_end.groupby(['end_station_id','start_station_name']).count()['bike_id'].reset_index()\n",
    "data3.rename(columns={'bike_id':'count'}, inplace=True)\n",
    "data3.head()"
   ]
  },
  {
   "cell_type": "code",
   "execution_count": 472,
   "metadata": {},
   "outputs": [
    {
     "data": {
      "text/html": [
       "<div>\n",
       "<style scoped>\n",
       "    .dataframe tbody tr th:only-of-type {\n",
       "        vertical-align: middle;\n",
       "    }\n",
       "\n",
       "    .dataframe tbody tr th {\n",
       "        vertical-align: top;\n",
       "    }\n",
       "\n",
       "    .dataframe thead th {\n",
       "        text-align: right;\n",
       "    }\n",
       "</style>\n",
       "<table border=\"1\" class=\"dataframe\">\n",
       "  <thead>\n",
       "    <tr style=\"text-align: right;\">\n",
       "      <th></th>\n",
       "      <th>end_station_id</th>\n",
       "      <th>start_station_name</th>\n",
       "      <th>count_percentage</th>\n",
       "    </tr>\n",
       "  </thead>\n",
       "  <tbody>\n",
       "    <tr>\n",
       "      <th>127</th>\n",
       "      <td>402</td>\n",
       "      <td>Pershing Square North</td>\n",
       "      <td>14.44</td>\n",
       "    </tr>\n",
       "    <tr>\n",
       "      <th>155</th>\n",
       "      <td>402</td>\n",
       "      <td>W 22 St &amp; 10 Ave</td>\n",
       "      <td>12.22</td>\n",
       "    </tr>\n",
       "    <tr>\n",
       "      <th>112</th>\n",
       "      <td>402</td>\n",
       "      <td>Lafayette St &amp; E 8 St</td>\n",
       "      <td>11.11</td>\n",
       "    </tr>\n",
       "    <tr>\n",
       "      <th>162</th>\n",
       "      <td>402</td>\n",
       "      <td>W 31 St &amp; 7 Ave</td>\n",
       "      <td>10.00</td>\n",
       "    </tr>\n",
       "    <tr>\n",
       "      <th>150</th>\n",
       "      <td>402</td>\n",
       "      <td>W 16 St &amp; 8 Ave</td>\n",
       "      <td>10.00</td>\n",
       "    </tr>\n",
       "  </tbody>\n",
       "</table>\n",
       "</div>"
      ],
      "text/plain": [
       "     end_station_id     start_station_name  count_percentage\n",
       "127             402  Pershing Square North             14.44\n",
       "155             402       W 22 St & 10 Ave             12.22\n",
       "112             402  Lafayette St & E 8 St             11.11\n",
       "162             402        W 31 St & 7 Ave             10.00\n",
       "150             402        W 16 St & 8 Ave             10.00"
      ]
     },
     "execution_count": 472,
     "metadata": {},
     "output_type": "execute_result"
    }
   ],
   "source": [
    "# 시작 지점 탑텐 뽑기 (도착지 별로)\n",
    "#data1: id가 402\n",
    "#data2: id가 519\n",
    "data1=data3.loc[data3['end_station_id']==402].sort_values(by='count', ascending=False).iloc[:10,:]\n",
    "#count->percent\n",
    "data1['count']= data1['count'].apply(lambda row: (row/data1['count'].sum()*100))\n",
    "data1['count']= data1['count'].apply(lambda row: round(row,2))\n",
    "data1.rename(columns={'count':'count_percentage'}, inplace=True)\n",
    "\n",
    "data2=data3.loc[data3['end_station_id']==519].sort_values(by='count', ascending=False).iloc[:10,:]\n",
    "data2['count']= data2['count'].apply(lambda row: (row/data2['count'].sum()*100))\n",
    "data2['count']= data2['count'].apply(lambda row: round(row,2))\n",
    "data2.rename(columns={'count':'count_percentage'}, inplace=True)\n",
    "\n",
    "data1.head()"
   ]
  },
  {
   "cell_type": "code",
   "execution_count": 473,
   "metadata": {},
   "outputs": [],
   "source": [
    "# 두 개를 concat\n",
    "toptens=pd.concat([data1,data2],axis=0)"
   ]
  },
  {
   "cell_type": "code",
   "execution_count": 474,
   "metadata": {
    "scrolled": true
   },
   "outputs": [
    {
     "data": {
      "image/png": "[encoded data removed]",
      "text/plain": [
       "<Figure size 1440x360 with 1 Axes>"
      ]
     },
     "metadata": {},
     "output_type": "display_data"
    }
   ],
   "source": [
    "#bike_ id는 필요없을 것 같고, 시작 지점만 살펴보자\n",
    "\n",
    "f,ax= plt.subplots(figsize=(20,5))\n",
    "sns.barplot(x='start_station_name', y='count_percentage',hue='end_station_id', data=toptens)\n",
    "plt.xlabel('도착 지점 별, Top 10 대여 시작 지역')\n",
    "plt.xticks(rotation=320)\n",
    "plt.ylabel('count_percentage')\n",
    "plt.title('도착 지점 별, 상위 10개 대여 시작 지역과 대여 건수 비율')\n",
    "plt.show()"
   ]
  },
  {
   "cell_type": "markdown",
   "metadata": {},
   "source": [
    "> 도착 지점 별, 상위 10개 대여 시작 지역을 살펴보았다.\n",
    "- 겹치는 지역이 별로 없다. 거리차이 때문일 거라고 생각-> 거리를 보자!!"
   ]
  },
  {
   "cell_type": "code",
   "execution_count": 475,
   "metadata": {
    "scrolled": true
   },
   "outputs": [
    {
     "data": {
      "text/html": [
       "<div>\n",
       "<style scoped>\n",
       "    .dataframe tbody tr th:only-of-type {\n",
       "        vertical-align: middle;\n",
       "    }\n",
       "\n",
       "    .dataframe tbody tr th {\n",
       "        vertical-align: top;\n",
       "    }\n",
       "\n",
       "    .dataframe thead th {\n",
       "        text-align: right;\n",
       "    }\n",
       "</style>\n",
       "<table border=\"1\" class=\"dataframe\">\n",
       "  <thead>\n",
       "    <tr style=\"text-align: right;\">\n",
       "      <th></th>\n",
       "      <th>end_station_id</th>\n",
       "      <th>start_station_name</th>\n",
       "      <th>distance</th>\n",
       "    </tr>\n",
       "  </thead>\n",
       "  <tbody>\n",
       "    <tr>\n",
       "      <th>0</th>\n",
       "      <td>402</td>\n",
       "      <td>1 Ave &amp; E 16 St</td>\n",
       "      <td>1.122274</td>\n",
       "    </tr>\n",
       "    <tr>\n",
       "      <th>1</th>\n",
       "      <td>402</td>\n",
       "      <td>1 Ave &amp; E 18 St</td>\n",
       "      <td>1.050693</td>\n",
       "    </tr>\n",
       "    <tr>\n",
       "      <th>2</th>\n",
       "      <td>402</td>\n",
       "      <td>1 Ave &amp; E 30 St</td>\n",
       "      <td>1.202141</td>\n",
       "    </tr>\n",
       "    <tr>\n",
       "      <th>3</th>\n",
       "      <td>402</td>\n",
       "      <td>1 Ave &amp; E 68 St</td>\n",
       "      <td>3.809196</td>\n",
       "    </tr>\n",
       "    <tr>\n",
       "      <th>4</th>\n",
       "      <td>402</td>\n",
       "      <td>1 Ave &amp; E 78 St</td>\n",
       "      <td>4.599410</td>\n",
       "    </tr>\n",
       "  </tbody>\n",
       "</table>\n",
       "</div>"
      ],
      "text/plain": [
       "   end_station_id start_station_name  distance\n",
       "0             402    1 Ave & E 16 St  1.122274\n",
       "1             402    1 Ave & E 18 St  1.050693\n",
       "2             402    1 Ave & E 30 St  1.202141\n",
       "3             402    1 Ave & E 68 St  3.809196\n",
       "4             402    1 Ave & E 78 St  4.599410"
      ]
     },
     "execution_count": 475,
     "metadata": {},
     "output_type": "execute_result"
    }
   ],
   "source": [
    "dist=df_end.groupby(['end_station_id','start_station_name']).mean()['distance'].reset_index()\n",
    "dist.head()"
   ]
  },
  {
   "cell_type": "code",
   "execution_count": 476,
   "metadata": {},
   "outputs": [],
   "source": [
    "toptens_dist=pd.merge(toptens, dist, on=['end_station_id','start_station_name'], how='left')\n",
    "#toptens_dist=toptens_dist.sort_values(by='distance')"
   ]
  },
  {
   "cell_type": "code",
   "execution_count": 477,
   "metadata": {},
   "outputs": [
    {
     "name": "stdout",
     "output_type": "stream",
     "text": [
      "시작 지점 부터 Broadway & E 22 St 까지의 거리: 1.2582427937567455\n",
      "시작 지점 부터 Pershing Square North 까지의 거리: 1.1989806215197008\n"
     ]
    }
   ],
   "source": [
    "mean_402=toptens_dist.loc[toptens_dist['end_station_id']==402].apply(lambda row: \n",
    "                                                            row['count_percentage'] * row['distance']\n",
    "                                                            ,axis=1).sum()/100\n",
    "mean_519=toptens_dist.loc[toptens_dist['end_station_id']==519].apply(lambda row: \n",
    "                                                            row['count_percentage'] * row['distance']\n",
    "                                                            ,axis=1).sum()/100\n",
    "print('시작 지점 부터 Broadway & E 22 St 까지의 거리:',mean_402)\n",
    "print('시작 지점 부터 Pershing Square North 까지의 거리:',mean_519)"
   ]
  },
  {
   "cell_type": "markdown",
   "metadata": {},
   "source": [
    "> 도착 지점 별, topten 시작 지점에서의 거리는 1.26km vs 1.20km 로 비슷하다\n",
    "- 1.20~ 1.26 km 정도가 자전거타기 만만한 거리라는 것을 알 수 있다"
   ]
  },
  {
   "cell_type": "markdown",
   "metadata": {},
   "source": [
    "## continuous 변수 간의 상관관계"
   ]
  },
  {
   "cell_type": "code",
   "execution_count": 649,
   "metadata": {
    "scrolled": true
   },
   "outputs": [
    {
     "data": {
      "image/png": "[encoded data removed]",
      "text/plain": [
       "<Figure size 1440x576 with 1 Axes>"
      ]
     },
     "metadata": {},
     "output_type": "display_data"
    }
   ],
   "source": [
    "f, ax= plt.subplots(figsize=(20,8))\n",
    "sns.scatterplot(x='distance', y='trip_duration', data=df_end, hue='end_station_name', s=50)\n",
    "plt.title('주행거리와 주행시간의 관계')\n",
    "plt.show()\n",
    "#너무 당연한 플랏...\n",
    "#distance가 0 일때 trip_duration이 10,20 인 애들은 거르자\n",
    "#trip_duration>80 인 두 점도 거르자"
   ]
  },
  {
   "cell_type": "markdown",
   "metadata": {},
   "source": [
    "## outlier 검사"
   ]
  },
  {
   "cell_type": "code",
   "execution_count": 446,
   "metadata": {
    "scrolled": true
   },
   "outputs": [
    {
     "data": {
      "text/html": [
       "<div>\n",
       "<style scoped>\n",
       "    .dataframe tbody tr th:only-of-type {\n",
       "        vertical-align: middle;\n",
       "    }\n",
       "\n",
       "    .dataframe tbody tr th {\n",
       "        vertical-align: top;\n",
       "    }\n",
       "\n",
       "    .dataframe thead th {\n",
       "        text-align: right;\n",
       "    }\n",
       "</style>\n",
       "<table border=\"1\" class=\"dataframe\">\n",
       "  <thead>\n",
       "    <tr style=\"text-align: right;\">\n",
       "      <th></th>\n",
       "      <th>bike_id</th>\n",
       "      <th>trip_duration</th>\n",
       "      <th>start_station_name</th>\n",
       "      <th>end_station_id</th>\n",
       "      <th>end_station_name</th>\n",
       "      <th>distance</th>\n",
       "    </tr>\n",
       "  </thead>\n",
       "  <tbody>\n",
       "    <tr>\n",
       "      <th>37875</th>\n",
       "      <td>25527</td>\n",
       "      <td>28.10</td>\n",
       "      <td>Pershing Square North</td>\n",
       "      <td>519</td>\n",
       "      <td>Pershing Square North</td>\n",
       "      <td>0.000000</td>\n",
       "    </tr>\n",
       "    <tr>\n",
       "      <th>39721</th>\n",
       "      <td>29116</td>\n",
       "      <td>1.28</td>\n",
       "      <td>Broadway &amp; E 22 St</td>\n",
       "      <td>402</td>\n",
       "      <td>Broadway &amp; E 22 St</td>\n",
       "      <td>0.000000</td>\n",
       "    </tr>\n",
       "    <tr>\n",
       "      <th>49733</th>\n",
       "      <td>15149</td>\n",
       "      <td>6.67</td>\n",
       "      <td>Broadway &amp; E 22 St</td>\n",
       "      <td>402</td>\n",
       "      <td>Broadway &amp; E 22 St</td>\n",
       "      <td>0.000000</td>\n",
       "    </tr>\n",
       "    <tr>\n",
       "      <th>47145</th>\n",
       "      <td>15255</td>\n",
       "      <td>2.32</td>\n",
       "      <td>Broadway &amp; E 22 St</td>\n",
       "      <td>402</td>\n",
       "      <td>Broadway &amp; E 22 St</td>\n",
       "      <td>0.000000</td>\n",
       "    </tr>\n",
       "    <tr>\n",
       "      <th>28251</th>\n",
       "      <td>29716</td>\n",
       "      <td>11.82</td>\n",
       "      <td>Pershing Square North</td>\n",
       "      <td>519</td>\n",
       "      <td>Pershing Square North</td>\n",
       "      <td>0.000000</td>\n",
       "    </tr>\n",
       "    <tr>\n",
       "      <th>70012</th>\n",
       "      <td>31653</td>\n",
       "      <td>20.08</td>\n",
       "      <td>Pershing Square South</td>\n",
       "      <td>519</td>\n",
       "      <td>Pershing Square North</td>\n",
       "      <td>0.036747</td>\n",
       "    </tr>\n",
       "    <tr>\n",
       "      <th>38798</th>\n",
       "      <td>30972</td>\n",
       "      <td>2.70</td>\n",
       "      <td>Pershing Square South</td>\n",
       "      <td>519</td>\n",
       "      <td>Pershing Square North</td>\n",
       "      <td>0.036747</td>\n",
       "    </tr>\n",
       "    <tr>\n",
       "      <th>31915</th>\n",
       "      <td>31486</td>\n",
       "      <td>13.60</td>\n",
       "      <td>Pershing Square South</td>\n",
       "      <td>519</td>\n",
       "      <td>Pershing Square North</td>\n",
       "      <td>0.036747</td>\n",
       "    </tr>\n",
       "    <tr>\n",
       "      <th>52893</th>\n",
       "      <td>31337</td>\n",
       "      <td>1.43</td>\n",
       "      <td>E 41 St &amp; Madison Ave</td>\n",
       "      <td>519</td>\n",
       "      <td>Pershing Square North</td>\n",
       "      <td>0.189527</td>\n",
       "    </tr>\n",
       "    <tr>\n",
       "      <th>22371</th>\n",
       "      <td>27465</td>\n",
       "      <td>3.17</td>\n",
       "      <td>E 41 St &amp; Madison Ave</td>\n",
       "      <td>519</td>\n",
       "      <td>Pershing Square North</td>\n",
       "      <td>0.189527</td>\n",
       "    </tr>\n",
       "  </tbody>\n",
       "</table>\n",
       "</div>"
      ],
      "text/plain": [
       "       bike_id  trip_duration     start_station_name  end_station_id  \\\n",
       "37875    25527          28.10  Pershing Square North             519   \n",
       "39721    29116           1.28     Broadway & E 22 St             402   \n",
       "49733    15149           6.67     Broadway & E 22 St             402   \n",
       "47145    15255           2.32     Broadway & E 22 St             402   \n",
       "28251    29716          11.82  Pershing Square North             519   \n",
       "70012    31653          20.08  Pershing Square South             519   \n",
       "38798    30972           2.70  Pershing Square South             519   \n",
       "31915    31486          13.60  Pershing Square South             519   \n",
       "52893    31337           1.43  E 41 St & Madison Ave             519   \n",
       "22371    27465           3.17  E 41 St & Madison Ave             519   \n",
       "\n",
       "            end_station_name  distance  \n",
       "37875  Pershing Square North  0.000000  \n",
       "39721     Broadway & E 22 St  0.000000  \n",
       "49733     Broadway & E 22 St  0.000000  \n",
       "47145     Broadway & E 22 St  0.000000  \n",
       "28251  Pershing Square North  0.000000  \n",
       "70012  Pershing Square North  0.036747  \n",
       "38798  Pershing Square North  0.036747  \n",
       "31915  Pershing Square North  0.036747  \n",
       "52893  Pershing Square North  0.189527  \n",
       "22371  Pershing Square North  0.189527  "
      ]
     },
     "execution_count": 446,
     "metadata": {},
     "output_type": "execute_result"
    }
   ],
   "source": [
    "#주행거리가 엄청 적은데 주행시간이 큰 애들은 거르자\n",
    "df_end.sort_values(by='distance').head(10)"
   ]
  },
  {
   "cell_type": "code",
   "execution_count": 482,
   "metadata": {
    "scrolled": true
   },
   "outputs": [
    {
     "data": {
      "text/html": [
       "<div>\n",
       "<style scoped>\n",
       "    .dataframe tbody tr th:only-of-type {\n",
       "        vertical-align: middle;\n",
       "    }\n",
       "\n",
       "    .dataframe tbody tr th {\n",
       "        vertical-align: top;\n",
       "    }\n",
       "\n",
       "    .dataframe thead th {\n",
       "        text-align: right;\n",
       "    }\n",
       "</style>\n",
       "<table border=\"1\" class=\"dataframe\">\n",
       "  <thead>\n",
       "    <tr style=\"text-align: right;\">\n",
       "      <th></th>\n",
       "      <th>bike_id</th>\n",
       "      <th>trip_duration</th>\n",
       "      <th>start_station_name</th>\n",
       "      <th>end_station_id</th>\n",
       "      <th>end_station_name</th>\n",
       "      <th>distance</th>\n",
       "    </tr>\n",
       "  </thead>\n",
       "  <tbody>\n",
       "    <tr>\n",
       "      <th>65977</th>\n",
       "      <td>19476</td>\n",
       "      <td>118.77</td>\n",
       "      <td>Greenwich St &amp; W Houston St</td>\n",
       "      <td>519</td>\n",
       "      <td>Pershing Square North</td>\n",
       "      <td>3.651727</td>\n",
       "    </tr>\n",
       "    <tr>\n",
       "      <th>64807</th>\n",
       "      <td>21215</td>\n",
       "      <td>118.47</td>\n",
       "      <td>Greenwich St &amp; W Houston St</td>\n",
       "      <td>519</td>\n",
       "      <td>Pershing Square North</td>\n",
       "      <td>3.651727</td>\n",
       "    </tr>\n",
       "    <tr>\n",
       "      <th>34364</th>\n",
       "      <td>28818</td>\n",
       "      <td>84.53</td>\n",
       "      <td>E 13 St &amp; Avenue A</td>\n",
       "      <td>402</td>\n",
       "      <td>Broadway &amp; E 22 St</td>\n",
       "      <td>1.418787</td>\n",
       "    </tr>\n",
       "    <tr>\n",
       "      <th>8473</th>\n",
       "      <td>15240</td>\n",
       "      <td>55.67</td>\n",
       "      <td>South St &amp; Gouverneur Ln</td>\n",
       "      <td>519</td>\n",
       "      <td>Pershing Square North</td>\n",
       "      <td>5.904200</td>\n",
       "    </tr>\n",
       "    <tr>\n",
       "      <th>62407</th>\n",
       "      <td>29323</td>\n",
       "      <td>53.35</td>\n",
       "      <td>Pearl St &amp; Hanover Square</td>\n",
       "      <td>519</td>\n",
       "      <td>Pershing Square North</td>\n",
       "      <td>5.880910</td>\n",
       "    </tr>\n",
       "  </tbody>\n",
       "</table>\n",
       "</div>"
      ],
      "text/plain": [
       "       bike_id  trip_duration           start_station_name  end_station_id  \\\n",
       "65977    19476         118.77  Greenwich St & W Houston St             519   \n",
       "64807    21215         118.47  Greenwich St & W Houston St             519   \n",
       "34364    28818          84.53           E 13 St & Avenue A             402   \n",
       "8473     15240          55.67     South St & Gouverneur Ln             519   \n",
       "62407    29323          53.35    Pearl St & Hanover Square             519   \n",
       "\n",
       "            end_station_name  distance  \n",
       "65977  Pershing Square North  3.651727  \n",
       "64807  Pershing Square North  3.651727  \n",
       "34364     Broadway & E 22 St  1.418787  \n",
       "8473   Pershing Square North  5.904200  \n",
       "62407  Pershing Square North  5.880910  "
      ]
     },
     "execution_count": 482,
     "metadata": {},
     "output_type": "execute_result"
    }
   ],
   "source": [
    "#주행 시간이 80 이상인 애는 제외\n",
    "df_end.sort_values(by=['trip_duration'], ascending=False).head()"
   ]
  },
  {
   "cell_type": "code",
   "execution_count": 495,
   "metadata": {},
   "outputs": [],
   "source": [
    "#아웃라이어 제거\n",
    "outlier=df_end.loc[(df_end['distance']<0.04)&(df_end['trip_duration']>10)].index\n",
    "df_end=df_end.drop(outlier,axis=0)\n",
    "outlier=df_end.loc[df_end['trip_duration']>80].index\n",
    "df_end=df_end.drop(outlier,axis=0)"
   ]
  },
  {
   "cell_type": "markdown",
   "metadata": {},
   "source": [
    "### T-test\n",
    "귀무가설은 무엇일까요?\n",
    "\n",
    "H0: Pershing Square North 와 Broadway & E 22 St 의 주행시간(trip_duration) 의 평균에는 차이가 없다"
   ]
  },
  {
   "cell_type": "markdown",
   "metadata": {},
   "source": [
    "어떤 T-test 를 적용해야할까요?    \n",
    "- 독립표본: \n",
    "\n",
    "    두 집단의 모평균(모집단의 평균)은 동일하다는 가설\n",
    "\n",
    "    따라서 두 집단의 표본평균의 차이가 0은 아닐 수 있지만, 그렇게 큰 차이를 보이지는 않을 것임\n",
    "\n",
    "    두 표본평균이 심각하게 차이가 난다면, 두 집단의 모평균이 동일하다는 가설이 맞지 않을 가능성이 높음\n",
    "\n",
    "    두 표본평균이 차이나는 정도에 대한 가능성(확률)을 계산하고 이를 바탕으로 \"두 집단의 모평균(모집단의 평균)은 동일하다는 가설\"에 대해서 판단함"
   ]
  },
  {
   "cell_type": "markdown",
   "metadata": {},
   "source": [
    "분석해봅시다!"
   ]
  },
  {
   "cell_type": "code",
   "execution_count": 615,
   "metadata": {},
   "outputs": [],
   "source": [
    "#변수 생성\n",
    "pershing=df_end[df_end['end_station_name']=='Pershing Square North']['trip_duration'].array\n",
    "broadway=df_end[df_end['end_station_name']=='Broadway & E 22 St']['trip_duration'].array\n"
   ]
  },
  {
   "cell_type": "code",
   "execution_count": 616,
   "metadata": {},
   "outputs": [],
   "source": [
    "from scipy import stats"
   ]
  },
  {
   "cell_type": "markdown",
   "metadata": {},
   "source": [
    "### 정규성 검정\n",
    ": 데이터가 커서 진행하지 않아도 되지만.."
   ]
  },
  {
   "cell_type": "code",
   "execution_count": 617,
   "metadata": {},
   "outputs": [
    {
     "name": "stdout",
     "output_type": "stream",
     "text": [
      "(0.6988873481750488, 1.6031095787039248e-34) (0.7965385913848877, 2.756225729211936e-23)\n"
     ]
    }
   ],
   "source": [
    "normal1 = stats.shapiro(pershing)\n",
    "normal2 = stats.shapiro(broadway)\n",
    "print(normal1, normal2)"
   ]
  },
  {
   "cell_type": "markdown",
   "metadata": {},
   "source": [
    "> p-value가 모두 0.05보다 커서 정규성을 만족한다"
   ]
  },
  {
   "cell_type": "markdown",
   "metadata": {},
   "source": [
    "### 등분산 검정\n",
    ": 두 정규분포로부터 생성된 두 개의 데이터 집합으로부터 두 정규분포의 분산 모수가 같은지 확인하기 위한 검정\n",
    "\n",
    "앞에서 분포확인 했지만.. 실행"
   ]
  },
  {
   "cell_type": "code",
   "execution_count": 618,
   "metadata": {},
   "outputs": [
    {
     "name": "stdout",
     "output_type": "stream",
     "text": [
      "LeveneResult(F) : 0.375 \n",
      "p-value : 0.540\n"
     ]
    }
   ],
   "source": [
    "lresult = stats.levene(pershing, broadway)\n",
    "print('LeveneResult(F) : %.3f \\np-value : %.3f' % (lresult))"
   ]
  },
  {
   "cell_type": "markdown",
   "metadata": {},
   "source": [
    "> Levene의 등분산 검정 결과,\n",
    ">\n",
    "> 1) F값이 0.375이다\n",
    "- F값: 집단간 분산/집단내 분산 -> F값이 크면클수록 두 표본의 분산이 동일하지 않다\n",
    ">\n",
    "> 2) p-value가 0.540으로, 0.05보다 크다\n",
    ">\n",
    "> 결론적으로, 등분산성을 만족한다"
   ]
  },
  {
   "cell_type": "code",
   "execution_count": 619,
   "metadata": {},
   "outputs": [
    {
     "name": "stdout",
     "output_type": "stream",
     "text": [
      "t statistic : 1.792 \n",
      "p-value : 0.073\n"
     ]
    }
   ],
   "source": [
    "#등분산인 독립표본 t-검정 실행 \n",
    "result = stats.ttest_ind(pershing, broadway, equal_var=True) \n",
    "print('t statistic : %.3f \\np-value : %.3f' % (result))"
   ]
  },
  {
   "cell_type": "code",
   "execution_count": 622,
   "metadata": {},
   "outputs": [
    {
     "data": {
      "text/plain": [
       "(13.254093333333335, 12.211272321428583)"
      ]
     },
     "execution_count": 622,
     "metadata": {},
     "output_type": "execute_result"
    }
   ],
   "source": [
    "# 두 집단의 평균\n",
    "np.mean(pershing), np.mean(broadway)"
   ]
  },
  {
   "cell_type": "markdown",
   "metadata": {},
   "source": [
    "> 결론:\n",
    ">\n",
    "> 독립표본 t-검정 결과,\n",
    "> t값이 1.792, p-value가 0.073으로 신뢰수준 99%하에서 귀무가설을 기각할 수 없다. \n",
    ">\n",
    "> 따라서 도착지점에 따른 평균 주행시간의 평균의 차이는, 통계적으로 유의미하지 않다."
   ]
  },
  {
   "cell_type": "markdown",
   "metadata": {},
   "source": [
    "https://no17.tistory.com/189\n",
    "\n",
    "https://datascienceschool.net/view-notebook/14bde0cc05514b2cae2088805ef9ed52/\n",
    "\n",
    "http://blog.naver.com/parksehoon1971/221585513533"
   ]
  },
  {
   "cell_type": "markdown",
   "metadata": {},
   "source": [
    "분석 결과를 해석해주세요"
   ]
  },
  {
   "cell_type": "markdown",
   "metadata": {},
   "source": [
    "가능성:\n",
    "\n",
    "1) 두 지점이 가까워서, 시작점에 상관없이 평균 주행시간의 평균의 차이가 없었다. X\n",
    "\n",
    "2) 보통 자전거를 이용하는 사람들이 평균적으로 주행하는 시간이 정해져있다. V"
   ]
  },
  {
   "cell_type": "code",
   "execution_count": 647,
   "metadata": {},
   "outputs": [],
   "source": [
    "broadway_loc=df[df['end_station_id']==402][['end_station_latitude',\n",
    "                'end_station_longitude']].mean().to_list()\n",
    "pershing_loc=df[df['end_station_id']==519][['end_station_latitude',\n",
    "                 'end_station_longitude']].mean().to_list()"
   ]
  },
  {
   "cell_type": "code",
   "execution_count": 648,
   "metadata": {},
   "outputs": [
    {
     "data": {
      "text/plain": [
       "1.6251286792710222"
      ]
     },
     "execution_count": 648,
     "metadata": {},
     "output_type": "execute_result"
    }
   ],
   "source": [
    "# 두 지점이 얼마나 떨어져 있는지 보자 -> 멀다..\n",
    "distance(broadway_loc[0],broadway_loc[1],pershing_loc[0],pershing_loc[1])"
   ]
  },
  {
   "cell_type": "markdown",
   "metadata": {},
   "source": [
    "\n",
    "### 1. \n",
    "3)-(2)에서 살펴봤듯, 가장 빈도수가 높게 나온 시작 지점과 종점간의 거리를 비교했을때, topten 시작지점에서는 1.20~ 1.26 km 를 (평균적인) 선호되는 자전거 주행거리 범위로 판단할 수 있었다.\n",
    "\n",
    "### 2.\n",
    " 연속형 변수간의 관계 plot에서 살펴봤듯,주행거리는 주행시간에 대하여 양의 상관관계를 지닌다 \n",
    "### 3. \n",
    "\n",
    "주행거리가 평균적으로 정해져 있으므로, 주행시간 또한 평균적으로 결정되어있을 것이다.\n"
   ]
  },
  {
   "cell_type": "markdown",
   "metadata": {},
   "source": [
    "### 4.\n",
    "\n",
    "- 다음은 종점별, 시작지점에서부터의 평균 주행거리이다. (이번에는 탑텐이 아니라 전체 평균)\n",
    "- Broadway & E 22 St\t: 1.73km \n",
    "- Pershing Square North\t: 2km "
   ]
  },
  {
   "cell_type": "code",
   "execution_count": 718,
   "metadata": {
    "scrolled": true
   },
   "outputs": [
    {
     "data": {
      "text/html": [
       "<div>\n",
       "<style scoped>\n",
       "    .dataframe tbody tr th:only-of-type {\n",
       "        vertical-align: middle;\n",
       "    }\n",
       "\n",
       "    .dataframe tbody tr th {\n",
       "        vertical-align: top;\n",
       "    }\n",
       "\n",
       "    .dataframe thead th {\n",
       "        text-align: right;\n",
       "    }\n",
       "</style>\n",
       "<table border=\"1\" class=\"dataframe\">\n",
       "  <thead>\n",
       "    <tr style=\"text-align: right;\">\n",
       "      <th></th>\n",
       "      <th>end_station_name</th>\n",
       "      <th>bike_id</th>\n",
       "      <th>distance</th>\n",
       "      <th>dist_average</th>\n",
       "    </tr>\n",
       "  </thead>\n",
       "  <tbody>\n",
       "    <tr>\n",
       "      <th>0</th>\n",
       "      <td>Broadway &amp; E 22 St</td>\n",
       "      <td>448</td>\n",
       "      <td>435.708229</td>\n",
       "      <td>1.731369</td>\n",
       "    </tr>\n",
       "    <tr>\n",
       "      <th>1</th>\n",
       "      <td>Pershing Square North</td>\n",
       "      <td>750</td>\n",
       "      <td>665.380396</td>\n",
       "      <td>1.999891</td>\n",
       "    </tr>\n",
       "  </tbody>\n",
       "</table>\n",
       "</div>"
      ],
      "text/plain": [
       "        end_station_name  bike_id    distance  dist_average\n",
       "0     Broadway & E 22 St      448  435.708229      1.731369\n",
       "1  Pershing Square North      750  665.380396      1.999891"
      ]
     },
     "execution_count": 718,
     "metadata": {},
     "output_type": "execute_result"
    }
   ],
   "source": [
    "agg={'bike_id':'count','distance':'mean'}\n",
    "dff=df_end.groupby(['end_station_name','start_station_name']).agg(agg).reset_index()\n",
    "dff['dist_average']=dff['bike_id']*dff['distance']\n",
    "dff=dff.groupby(['end_station_name']).sum().reset_index()\n",
    "dff['dist_average']/=dff['bike_id']\n",
    "dff"
   ]
  },
  {
   "cell_type": "markdown",
   "metadata": {},
   "source": [
    "### 5. \n",
    "- (1) 다음은 평균 주행거리 범위 (1.73~2km) 에 대한 주행시간의 평균이다 \n",
    "- (2) 다음은 평균 주행거리에 대한 주행시간을 회귀직선으로 나타낸 것이다"
   ]
  },
  {
   "cell_type": "code",
   "execution_count": 722,
   "metadata": {},
   "outputs": [
    {
     "data": {
      "text/plain": [
       "12.138000000000005"
      ]
     },
     "execution_count": 722,
     "metadata": {},
     "output_type": "execute_result"
    }
   ],
   "source": [
    "#(1)\n",
    "df_end[(df_end['distance']>1.73)&(df_end['distance']<2)]['trip_duration'].mean()"
   ]
  },
  {
   "cell_type": "code",
   "execution_count": 726,
   "metadata": {},
   "outputs": [
    {
     "data": {
      "image/png": "[encoded data removed]",
      "text/plain": [
       "<Figure size 1440x576 with 1 Axes>"
      ]
     },
     "metadata": {},
     "output_type": "display_data"
    }
   ],
   "source": [
    "#(2)\n",
    "f, ax= plt.subplots(figsize=(20,8))\n",
    "sns.regplot(x='distance', y='trip_duration',\n",
    "                data=df_end[(df_end['distance']>1.73)&(df_end['distance']<2)])\n",
    "plt.title('주행거리와 주행시간의 관계')\n",
    "plt.show()"
   ]
  },
  {
   "cell_type": "markdown",
   "metadata": {},
   "source": [
    "### 6.\n",
    "\n",
    "- 평균 주행거리에 따른 주행시간(12.13)이 앞에서 제시된 두 집단의 평균(13.2, 12.2)와 큰 차이가 없다\n",
    "- 종점에 대하여 평균 주행거리,시간은 독립적이다\n",
    "- 평균 주행거리, 시간은 곧 이용자들이 선호하는 주행거리, 시간으로 해석할 수 있다"
   ]
  },
  {
   "cell_type": "code",
   "execution_count": null,
   "metadata": {},
   "outputs": [],
   "source": []
  }
 ],
 "metadata": {
  "kernelspec": {
   "display_name": "Python 3",
   "language": "python",
   "name": "python3"
  },
  "language_info": {
   "codemirror_mode": {
    "name": "ipython",
    "version": 3
   },
   "file_extension": ".py",
   "mimetype": "text/x-python",
   "name": "python",
   "nbconvert_exporter": "python",
   "pygments_lexer": "ipython3",
   "version": "3.7.3"
  }
 },
 "nbformat": 4,
 "nbformat_minor": 4
}
